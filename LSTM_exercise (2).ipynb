{
  "nbformat": 4,
  "nbformat_minor": 0,
  "metadata": {
    "colab": {
      "provenance": []
    },
    "kernelspec": {
      "name": "python3",
      "display_name": "Python 3"
    },
    "language_info": {
      "name": "python"
    }
  },
  "cells": [
    {
      "cell_type": "markdown",
      "source": [
        "# **LSTM Exercise**"
      ],
      "metadata": {
        "id": "DeDMU8rGJtM7"
      }
    },
    {
      "cell_type": "markdown",
      "source": [
        "## Import libraries"
      ],
      "metadata": {
        "id": "73pucHkDJoyN"
      }
    },
    {
      "cell_type": "code",
      "execution_count": 70,
      "metadata": {
        "id": "W3AjCzdQJmSK"
      },
      "outputs": [],
      "source": [
        "import numpy as np\n",
        "import matplotlib.pyplot as plt\n",
        "import pandas as pd\n",
        "import tensorflow as tf\n",
        "from tensorflow.keras.models import Sequential\n",
        "from tensorflow.keras.layers import Dense\n",
        "from tensorflow.keras.layers import LSTM\n",
        "from sklearn.preprocessing import MinMaxScaler\n",
        "from sklearn.metrics import mean_squared_error"
      ]
    },
    {
      "cell_type": "markdown",
      "source": [
        "## load the dataset\n",
        "### Dataset path : 5- Time series forecasting/2-2- Time Series Forecasting (LSTM and GRU)\n",
        "/ LAB/Dataset/traffic.csv\n"
      ],
      "metadata": {
        "id": "91J8oMpJKYkO"
      }
    },
    {
      "cell_type": "code",
      "source": [
        "dataframe = pd.read_csv('/content/traffic (2).csv')"
      ],
      "metadata": {
        "id": "Cyx1SwgJJ8Y9"
      },
      "execution_count": 71,
      "outputs": []
    },
    {
      "cell_type": "code",
      "source": [
        "df['DateTime'] = pd.to_datetime(df['DateTime'])"
      ],
      "metadata": {
        "id": "p7xWLrpPtFJU"
      },
      "execution_count": 72,
      "outputs": []
    },
    {
      "cell_type": "code",
      "source": [
        "df['year'] = pd.DatetimeIndex(df['DateTime']).year\n",
        "df['month'] = pd.DatetimeIndex(df['DateTime']).month\n",
        "df['day'] = pd.DatetimeIndex(df['DateTime']).day\n",
        "df['hour'] = pd.DatetimeIndex(df['DateTime']).hour\n",
        "df['minute'] = pd.DatetimeIndex(df['DateTime']).minute\n",
        "df['second'] = pd.DatetimeIndex(df['DateTime']).second"
      ],
      "metadata": {
        "id": "u7_mp28mqk9F"
      },
      "execution_count": 73,
      "outputs": []
    },
    {
      "cell_type": "code",
      "source": [
        "df.info()"
      ],
      "metadata": {
        "colab": {
          "base_uri": "https://localhost:8080/"
        },
        "id": "O8GzHtrvv30j",
        "outputId": "f2351ced-9bc3-4d15-b0fe-1b4733adade8"
      },
      "execution_count": 74,
      "outputs": [
        {
          "output_type": "stream",
          "name": "stdout",
          "text": [
            "<class 'pandas.core.frame.DataFrame'>\n",
            "RangeIndex: 48120 entries, 0 to 48119\n",
            "Data columns (total 10 columns):\n",
            " #   Column    Non-Null Count  Dtype         \n",
            "---  ------    --------------  -----         \n",
            " 0   DateTime  48120 non-null  datetime64[ns]\n",
            " 1   Junction  48120 non-null  float64       \n",
            " 2   Vehicles  48120 non-null  float64       \n",
            " 3   ID        48120 non-null  int64         \n",
            " 4   year      48120 non-null  int32         \n",
            " 5   month     48120 non-null  int32         \n",
            " 6   day       48120 non-null  int32         \n",
            " 7   hour      48120 non-null  int32         \n",
            " 8   minute    48120 non-null  int32         \n",
            " 9   second    48120 non-null  int32         \n",
            "dtypes: datetime64[ns](1), float64(2), int32(6), int64(1)\n",
            "memory usage: 2.6 MB\n"
          ]
        }
      ]
    },
    {
      "cell_type": "markdown",
      "source": [
        "## Normalize the dataset"
      ],
      "metadata": {
        "id": "i7yyKGkVKi88"
      }
    },
    {
      "cell_type": "code",
      "source": [
        "scaler = MinMaxScaler(feature_range=(0, 1))\n",
        "df['Vehicles'] = scaler.fit_transform(df['Vehicles'].values.reshape(-1,1))\n",
        "df['Junction'] = scaler.fit_transform(df['Junction'].values.reshape(-1,1))"
      ],
      "metadata": {
        "id": "dacoPvqbKdpP"
      },
      "execution_count": 75,
      "outputs": []
    },
    {
      "cell_type": "markdown",
      "source": [
        "## split into train and test sets"
      ],
      "metadata": {
        "id": "GV-4d-zxKvJI"
      }
    },
    {
      "cell_type": "code",
      "source": [
        "train_size = int(len(dataset) * 0.67)\n",
        "test_size = len(dataset) - train_size\n",
        "train, test = dataset[0:train_size,:], dataset[train_size:len(dataset),:]\n",
        "print(len(train), len(test))"
      ],
      "metadata": {
        "id": "4K7bNBFiKr_j",
        "colab": {
          "base_uri": "https://localhost:8080/"
        },
        "outputId": "1fc81783-398e-40c7-8352-9d191b1c41fb"
      },
      "execution_count": 76,
      "outputs": [
        {
          "output_type": "stream",
          "name": "stdout",
          "text": [
            "32240 15880\n"
          ]
        }
      ]
    },
    {
      "cell_type": "code",
      "source": [
        "def create_dataset(dataset, look_back=1):\n",
        "    dataX, dataY = [], []\n",
        "    for i in range(len(dataset)-look_back-1):\n",
        "        a = dataset[i:(i+look_back), 0]  # Indent this line\n",
        "        dataX.append(a)\n",
        "        dataY.append(dataset[i + look_back, 0])\n",
        "    return np.array(dataX), np.array(dataY)"
      ],
      "metadata": {
        "id": "MFSWdR4yhiwQ"
      },
      "execution_count": 77,
      "outputs": []
    },
    {
      "cell_type": "code",
      "source": [
        "# reshape into X=t and Y=t+1\n",
        "look_back = 1\n",
        "trainX, trainY = create_dataset(train, look_back)\n",
        "testX, testY = create_dataset(test, look_back)\n"
      ],
      "metadata": {
        "id": "LYlLT5XAhmKU"
      },
      "execution_count": 85,
      "outputs": []
    },
    {
      "cell_type": "code",
      "source": [
        "# reshape input to be [samples, time steps, features]\n",
        "trainX = np.reshape(trainX, (trainX.shape[0], 1, trainX.shape[1]))\n",
        "testX = np.reshape(testX, (testX.shape[0], 1, testX.shape[1]))\n"
      ],
      "metadata": {
        "id": "40tqLXkphoQ5"
      },
      "execution_count": 79,
      "outputs": []
    },
    {
      "cell_type": "code",
      "source": [
        "model = Sequential()\n",
        "model.add(LSTM(4, input_shape=(1, look_back)))\n",
        "model.add(Dense(1))\n",
        "model.compile(loss='mean_squared_error', optimizer='adam')"
      ],
      "metadata": {
        "id": "tKTnFm3lLcIj",
        "colab": {
          "base_uri": "https://localhost:8080/"
        },
        "outputId": "9b76bb75-3663-4793-d2a9-c5710b46ae5c"
      },
      "execution_count": 80,
      "outputs": [
        {
          "output_type": "stream",
          "name": "stderr",
          "text": [
            "/usr/local/lib/python3.10/dist-packages/keras/src/layers/rnn/rnn.py:204: UserWarning: Do not pass an `input_shape`/`input_dim` argument to a layer. When using Sequential models, prefer using an `Input(shape)` object as the first layer in the model instead.\n",
            "  super().__init__(**kwargs)\n"
          ]
        }
      ]
    },
    {
      "cell_type": "code",
      "source": [
        "model.fit(trainX,trainY, epochs=50, batch_size=32, verbose=2)\n"
      ],
      "metadata": {
        "colab": {
          "base_uri": "https://localhost:8080/"
        },
        "id": "UfCdbzGvhwM8",
        "outputId": "e7ef8557-07de-439f-fb30-181bba7782c0"
      },
      "execution_count": 81,
      "outputs": [
        {
          "output_type": "stream",
          "name": "stdout",
          "text": [
            "Epoch 1/50\n",
            "1008/1008 - 3s - 3ms/step - loss: 0.0080\n",
            "Epoch 2/50\n",
            "1008/1008 - 3s - 3ms/step - loss: 9.0235e-05\n",
            "Epoch 3/50\n",
            "1008/1008 - 2s - 2ms/step - loss: 3.2565e-05\n",
            "Epoch 4/50\n",
            "1008/1008 - 2s - 2ms/step - loss: 1.0170e-05\n",
            "Epoch 5/50\n",
            "1008/1008 - 3s - 3ms/step - loss: 7.1326e-06\n",
            "Epoch 6/50\n",
            "1008/1008 - 1s - 1ms/step - loss: 7.1277e-06\n",
            "Epoch 7/50\n",
            "1008/1008 - 3s - 3ms/step - loss: 7.2377e-06\n",
            "Epoch 8/50\n",
            "1008/1008 - 3s - 3ms/step - loss: 7.3161e-06\n",
            "Epoch 9/50\n",
            "1008/1008 - 2s - 2ms/step - loss: 7.3792e-06\n",
            "Epoch 10/50\n",
            "1008/1008 - 2s - 2ms/step - loss: 7.4076e-06\n",
            "Epoch 11/50\n",
            "1008/1008 - 1s - 1ms/step - loss: 7.4157e-06\n",
            "Epoch 12/50\n",
            "1008/1008 - 1s - 1ms/step - loss: 7.4177e-06\n",
            "Epoch 13/50\n",
            "1008/1008 - 3s - 3ms/step - loss: 7.4178e-06\n",
            "Epoch 14/50\n",
            "1008/1008 - 3s - 3ms/step - loss: 7.4174e-06\n",
            "Epoch 15/50\n",
            "1008/1008 - 2s - 2ms/step - loss: 7.4168e-06\n",
            "Epoch 16/50\n",
            "1008/1008 - 1s - 1ms/step - loss: 7.4162e-06\n",
            "Epoch 17/50\n",
            "1008/1008 - 1s - 1ms/step - loss: 7.4156e-06\n",
            "Epoch 18/50\n",
            "1008/1008 - 3s - 3ms/step - loss: 7.4149e-06\n",
            "Epoch 19/50\n",
            "1008/1008 - 3s - 3ms/step - loss: 7.4143e-06\n",
            "Epoch 20/50\n",
            "1008/1008 - 3s - 3ms/step - loss: 7.4136e-06\n",
            "Epoch 21/50\n",
            "1008/1008 - 2s - 2ms/step - loss: 7.4130e-06\n",
            "Epoch 22/50\n",
            "1008/1008 - 3s - 3ms/step - loss: 7.4123e-06\n",
            "Epoch 23/50\n",
            "1008/1008 - 1s - 1ms/step - loss: 7.4117e-06\n",
            "Epoch 24/50\n",
            "1008/1008 - 3s - 3ms/step - loss: 7.4110e-06\n",
            "Epoch 25/50\n",
            "1008/1008 - 3s - 3ms/step - loss: 7.4104e-06\n",
            "Epoch 26/50\n",
            "1008/1008 - 2s - 2ms/step - loss: 7.4098e-06\n",
            "Epoch 27/50\n",
            "1008/1008 - 1s - 1ms/step - loss: 7.4091e-06\n",
            "Epoch 28/50\n",
            "1008/1008 - 3s - 3ms/step - loss: 7.4085e-06\n",
            "Epoch 29/50\n",
            "1008/1008 - 1s - 1ms/step - loss: 7.4079e-06\n",
            "Epoch 30/50\n",
            "1008/1008 - 1s - 1ms/step - loss: 7.4072e-06\n",
            "Epoch 31/50\n",
            "1008/1008 - 1s - 1ms/step - loss: 7.4066e-06\n",
            "Epoch 32/50\n",
            "1008/1008 - 2s - 2ms/step - loss: 7.4060e-06\n",
            "Epoch 33/50\n",
            "1008/1008 - 2s - 2ms/step - loss: 7.4054e-06\n",
            "Epoch 34/50\n",
            "1008/1008 - 2s - 2ms/step - loss: 7.4047e-06\n",
            "Epoch 35/50\n",
            "1008/1008 - 3s - 3ms/step - loss: 7.4041e-06\n",
            "Epoch 36/50\n",
            "1008/1008 - 1s - 1ms/step - loss: 7.4035e-06\n",
            "Epoch 37/50\n",
            "1008/1008 - 3s - 3ms/step - loss: 7.4029e-06\n",
            "Epoch 38/50\n",
            "1008/1008 - 3s - 3ms/step - loss: 7.4023e-06\n",
            "Epoch 39/50\n",
            "1008/1008 - 2s - 2ms/step - loss: 7.4016e-06\n",
            "Epoch 40/50\n",
            "1008/1008 - 2s - 2ms/step - loss: 7.4010e-06\n",
            "Epoch 41/50\n",
            "1008/1008 - 2s - 2ms/step - loss: 7.4004e-06\n",
            "Epoch 42/50\n",
            "1008/1008 - 3s - 3ms/step - loss: 7.3998e-06\n",
            "Epoch 43/50\n",
            "1008/1008 - 3s - 3ms/step - loss: 7.3992e-06\n",
            "Epoch 44/50\n",
            "1008/1008 - 2s - 2ms/step - loss: 7.3986e-06\n",
            "Epoch 45/50\n",
            "1008/1008 - 3s - 3ms/step - loss: 7.3980e-06\n",
            "Epoch 46/50\n",
            "1008/1008 - 2s - 2ms/step - loss: 7.3974e-06\n",
            "Epoch 47/50\n",
            "1008/1008 - 3s - 2ms/step - loss: 7.3968e-06\n",
            "Epoch 48/50\n",
            "1008/1008 - 3s - 3ms/step - loss: 7.3962e-06\n",
            "Epoch 49/50\n",
            "1008/1008 - 2s - 2ms/step - loss: 7.3956e-06\n",
            "Epoch 50/50\n",
            "1008/1008 - 3s - 2ms/step - loss: 7.3950e-06\n"
          ]
        },
        {
          "output_type": "execute_result",
          "data": {
            "text/plain": [
              "<keras.src.callbacks.history.History at 0x7c05bbd79510>"
            ]
          },
          "metadata": {},
          "execution_count": 81
        }
      ]
    },
    {
      "cell_type": "markdown",
      "source": [
        "## Make preductuion and evaluatuin matrix."
      ],
      "metadata": {
        "id": "NwP_TpFfL7nA"
      }
    },
    {
      "cell_type": "code",
      "source": [
        "# make predictions\n",
        "trainPredict = model.predict(trainX)\n",
        "testPredict = model.predict(testX)\n",
        "# invert predictions\n",
        "trainPredict = scaler.inverse_transform(trainPredict)\n",
        "trainY = scaler.inverse_transform([trainY])\n",
        "testPredict = scaler.inverse_transform(testPredict)\n",
        "testY = scaler.inverse_transform([testY])\n",
        "# calculate root mean squared error\n",
        "trainScore = np.sqrt(mean_squared_error(trainY[0], trainPredict[:,0]))\n",
        "print('Train Score: %.2f RMSE' % (trainScore))\n",
        "testScore = np.sqrt(mean_squared_error(testY[0], testPredict[:,0]))\n",
        "print('Test Score: %.2f RMSE' % (testScore))\n"
      ],
      "metadata": {
        "id": "4lEgbNGULrbv",
        "colab": {
          "base_uri": "https://localhost:8080/"
        },
        "outputId": "b647f4dd-c909-44a1-d58e-ef99a118eec9"
      },
      "execution_count": 82,
      "outputs": [
        {
          "output_type": "stream",
          "name": "stdout",
          "text": [
            "\u001b[1m1008/1008\u001b[0m \u001b[32m━━━━━━━━━━━━━━━━━━━━\u001b[0m\u001b[37m\u001b[0m \u001b[1m1s\u001b[0m 1ms/step\n",
            "\u001b[1m497/497\u001b[0m \u001b[32m━━━━━━━━━━━━━━━━━━━━\u001b[0m\u001b[37m\u001b[0m \u001b[1m1s\u001b[0m 1ms/step\n",
            "Train Score: 0.00 RMSE\n",
            "Test Score: 0.02 RMSE\n"
          ]
        }
      ]
    },
    {
      "cell_type": "markdown",
      "source": [
        "## Visualize the result"
      ],
      "metadata": {
        "id": "ZpkMef5uMULa"
      }
    },
    {
      "cell_type": "code",
      "source": [
        "# shift train predictions for plotting\n",
        "trainPredictPlot = np.empty_like(dataset)\n",
        "trainPredictPlot[:, :] = np.nan\n",
        "trainPredictPlot[look_back:len(trainPredict)+look_back, :] = trainPredict\n",
        "# shift test predictions for plotting\n",
        "testPredictPlot = np.empty_like(dataset)\n",
        "testPredictPlot[:, :] = np.nan\n",
        "testPredictPlot[len(trainPredict)+(look_back*2)+1:len(dataset)-1, :] = testPredict\n",
        "# plot baseline and predictions\n",
        "plt.plot(scaler.inverse_transform(dataset))\n",
        "plt.plot(trainPredictPlot)\n",
        "plt.plot(testPredictPlot)\n",
        "plt.show()\n"
      ],
      "metadata": {
        "id": "B1T1VicEMXC_",
        "colab": {
          "base_uri": "https://localhost:8080/",
          "height": 430
        },
        "outputId": "fcbd8923-fa3c-43c0-c969-69894c29ad94"
      },
      "execution_count": 83,
      "outputs": [
        {
          "output_type": "display_data",
          "data": {
            "text/plain": [
              "<Figure size 640x480 with 1 Axes>"
            ],
            "image/png": "[encoded data removed]"
          },
          "metadata": {}
        }
      ]
    },
    {
      "cell_type": "markdown",
      "source": [
        "# **Well done** :)"
      ],
      "metadata": {
        "id": "_80frLg-MENd"
      }
    }
  ]
}