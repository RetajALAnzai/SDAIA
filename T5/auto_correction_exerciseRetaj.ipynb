{
  "cells": [
    {
      "cell_type": "markdown",
      "id": "8e8b6f85",
      "metadata": {
        "id": "8e8b6f85"
      },
      "source": [
        "# Auto-Correction Exercise\n",
        "\n",
        "This exercise will guide you through building an auto-correct system in Python. Follow the instructions in each step to complete the implementation."
      ]
    },
    {
      "cell_type": "markdown",
      "id": "b4ed5e99",
      "metadata": {
        "id": "b4ed5e99"
      },
      "source": [
        "## Step 1: Import Libraries\n",
        "\n",
        "Import the necessary libraries"
      ]
    },
    {
      "cell_type": "code",
      "execution_count": 28,
      "id": "c58dfc7e",
      "metadata": {
        "id": "c58dfc7e"
      },
      "outputs": [],
      "source": [
        "import os\n",
        "import re\n",
        "import numpy as np\n",
        "import pandas as pd\n",
        "from collections import Counter\n",
        "import nltk"
      ]
    },
    {
      "cell_type": "markdown",
      "id": "f849129e",
      "metadata": {
        "id": "f849129e"
      },
      "source": [
        "## Step 2: Load Data\n",
        "\n",
        "Load a trusted text corpus to build the auto-correct system."
      ]
    },
    {
      "cell_type": "code",
      "execution_count": 30,
      "id": "df8d28c4",
      "metadata": {
        "id": "df8d28c4",
        "outputId": "7bb4e4d3-59e6-4918-9778-eeef1fd0cab6",
        "colab": {
          "base_uri": "https://localhost:8080/",
          "height": 36
        }
      },
      "outputs": [
        {
          "output_type": "execute_result",
          "data": {
            "text/plain": [
              "\"Apple laptop is 'greatest gadget'\\n\""
            ],
            "application/vnd.google.colaboratory.intrinsic+json": {
              "type": "string"
            }
          },
          "metadata": {},
          "execution_count": 30
        }
      ],
      "source": [
        "with open('technologie_9.txt', 'r', encoding='ISO-8859-1') as f:\n",
        "    file = f.readlines()\n",
        "file[0][:5000]"
      ]
    },
    {
      "cell_type": "markdown",
      "id": "ffa045c9",
      "metadata": {
        "id": "ffa045c9"
      },
      "source": [
        "## Step 3: Data Processing\n",
        "\n",
        "Tokenize the text and convert all characters to lowercase to clean the data."
      ]
    },
    {
      "cell_type": "code",
      "execution_count": 32,
      "id": "41511573",
      "metadata": {
        "id": "41511573",
        "outputId": "6d0f747e-e7a1-45b9-8ded-6a4a903b5452",
        "colab": {
          "base_uri": "https://localhost:8080/"
        }
      },
      "outputs": [
        {
          "output_type": "stream",
          "name": "stdout",
          "text": [
            "The first ten words in the text are: \n",
            "['apple', 'laptop', 'is', 'greatest', 'gadget', 'the', 'apple', 'powerbook', '100', 'has', 'been', 'chosen', 'as', 'the', 'greatest', 'gadget', 'of', 'all', 'time', 'by', 'us', 'magazine', 'mobile', 'pc', 'the', '1991', 'laptop', 'was', 'chosen', 'because']\n",
            "There are 537 unique words in the vocabulary.\n"
          ]
        }
      ],
      "source": [
        "def process_data(lines):\n",
        "    words = []\n",
        "    for line in lines:\n",
        "        line = line.strip().lower()\n",
        "        word = re.findall(r'\\w+', line)\n",
        "        words.extend(word)\n",
        "    return words\n",
        "\n",
        "word_l = process_data(file)\n",
        "vocab = set(word_l)\n",
        "print(f\"The first ten words in the text are: \\n{word_l[0:30]}\")\n",
        "print(f\"There are {len(vocab)} unique words in the vocabulary.\")"
      ]
    },
    {
      "cell_type": "markdown",
      "id": "8999b61e",
      "metadata": {
        "id": "8999b61e"
      },
      "source": [
        "\n",
        "## Step 4: Architecture Overview\n",
        "\n",
        "This auto-correct architecture has four main components:\n",
        "\n",
        "1. **Filtering Mispells**: Check if a word is in the vocabulary.\n",
        "2. **Word Suggestion Mechanism**: Suggest candidate words based on various edit operations.\n",
        "3. **Probability Distribution Mechanism**: Calculate the probability of each candidate word.\n",
        "4. **Replace Mispells**: Replace the misspelled word with the most probable suggestion.\n",
        "\n",
        "Implement each part step-by-step in the cells below.\n"
      ]
    },
    {
      "cell_type": "markdown",
      "id": "ee2c7bfc",
      "metadata": {
        "id": "ee2c7bfc"
      },
      "source": [
        "### Step 4.1: Filtering Mispells\n",
        "\n",
        "Write a function to identify words not present in the vocabulary."
      ]
    },
    {
      "cell_type": "code",
      "execution_count": 36,
      "id": "a18cb2c2",
      "metadata": {
        "id": "a18cb2c2",
        "outputId": "4514135b-9956-454d-96b5-de4a64cc0e5b",
        "colab": {
          "base_uri": "https://localhost:8080/"
        }
      },
      "outputs": [
        {
          "output_type": "execute_result",
          "data": {
            "text/plain": [
              "['he', 'goinng', 'work']"
            ]
          },
          "metadata": {},
          "execution_count": 36
        }
      ],
      "source": [
        "def find_wrong_word(sent, vocab):\n",
        "    wrong_words = []\n",
        "    sent = sent.strip().lower().split(\" \")\n",
        "    for word in sent:\n",
        "        if word not in vocab:\n",
        "            wrong_words.append(word)\n",
        "    return wrong_words\n",
        "\n",
        "find_wrong_word('he is goinng to work', vocab)"
      ]
    },
    {
      "cell_type": "markdown",
      "id": "c5ae5fef",
      "metadata": {
        "id": "c5ae5fef"
      },
      "source": [
        "### Step 4.2: Word Suggestion Mechanism\n",
        "\n",
        "Implement functions to suggest words by deleting, switching, replacing, or inserting characters."
      ]
    },
    {
      "cell_type": "code",
      "execution_count": 37,
      "id": "9647c078",
      "metadata": {
        "id": "9647c078",
        "outputId": "92bc4113-b0a3-4ab5-d80a-6ea1a5946e33",
        "colab": {
          "base_uri": "https://localhost:8080/"
        }
      },
      "outputs": [
        {
          "output_type": "stream",
          "name": "stdout",
          "text": [
            "input word : share \n",
            "split_l = [('', 'share'), ('s', 'hare'), ('sh', 'are'), ('sha', 're'), ('shar', 'e')], \n",
            "delete_l = ['hare', 'sare', 'shre', 'shae', 'shar']\n"
          ]
        }
      ],
      "source": [
        "# Delete letter\n",
        "def delete_letter(word, verbose=False):\n",
        "    delete_l = []\n",
        "    split_l = [(word[:i], word[i:]) for i in range(len(word))]\n",
        "    delete_l = [s[0]+s[1][1:] for s in split_l]\n",
        "    if verbose: print(f\"input word : {word} \\nsplit_l = {split_l}, \\ndelete_l = {delete_l}\")\n",
        "    return delete_l\n",
        "\n",
        "delete_word_l = delete_letter(word=\"share\", verbose=True)"
      ]
    },
    {
      "cell_type": "code",
      "source": [
        "\n",
        "def switch_letter(word, verbose=False):\n",
        "    switch_l = []\n",
        "    split_l = [(word[:i], word[i:]) for i in range(len(word))]\n",
        "    for s in split_l:\n",
        "        if len(s[1]) > 2:\n",
        "            temp = s[0] + s[1][1] + s[1][0] + s[1][2:]\n",
        "        elif len(s[1]) == 2:\n",
        "            temp = s[0] + s[1][1] + s[1][0]\n",
        "        elif len(s[1]) == 1:\n",
        "            continue\n",
        "        switch_l.append(temp)\n",
        "    if verbose: print(f\"Input word = {word} \\nsplit_l = {split_l} \\nswitch_l = {switch_l}\")\n",
        "    return switch_l"
      ],
      "metadata": {
        "id": "7MOCW5n7uVba"
      },
      "id": "7MOCW5n7uVba",
      "execution_count": 39,
      "outputs": []
    },
    {
      "cell_type": "code",
      "source": [
        "# Replace letter\n",
        "def switch_letter(word, verbose=False):\n",
        "    switch_l = []\n",
        "    split_l = [(word[:i], word[i:]) for i in range(len(word))]\n",
        "    for s in split_l:\n",
        "        if len(s[1]) > 2:\n",
        "            temp = s[0] + s[1][1] + s[1][0] + s[1][2:]\n",
        "        elif len(s[1]) == 2:\n",
        "            temp = s[0] + s[1][1] + s[1][0]\n",
        "        elif len(s[1]) == 1:\n",
        "            continue\n",
        "        switch_l.append(temp)\n",
        "    if verbose: print(f\"Input word = {word} \\nsplit_l = {split_l} \\nswitch_l = {switch_l}\")\n",
        "    return switch_l\n",
        "\n",
        "switch_word_l = switch_letter(word=\"telephone\", verbose=True)"
      ],
      "metadata": {
        "id": "Mv-tOycduVL_",
        "outputId": "121cef9d-9c3a-4490-dbee-01b6530e4c83",
        "colab": {
          "base_uri": "https://localhost:8080/"
        }
      },
      "id": "Mv-tOycduVL_",
      "execution_count": 41,
      "outputs": [
        {
          "output_type": "stream",
          "name": "stdout",
          "text": [
            "Input word = telephone \n",
            "split_l = [('', 'telephone'), ('t', 'elephone'), ('te', 'lephone'), ('tel', 'ephone'), ('tele', 'phone'), ('telep', 'hone'), ('teleph', 'one'), ('telepho', 'ne'), ('telephon', 'e')] \n",
            "switch_l = ['etlephone', 'tleephone', 'teelphone', 'telpehone', 'telehpone', 'telepohne', 'telephnoe', 'telephoen']\n"
          ]
        }
      ]
    },
    {
      "cell_type": "code",
      "source": [
        "def replace_letter(word, verbose=False):\n",
        "    letters = 'abcdefghijklmnopqrstuvwxyz'\n",
        "    replace_l = []\n",
        "    split_l = [(word[:i], word[i:]) for i in range(len(word))]\n",
        "    for s in split_l:\n",
        "        if len(s[1]) == 1:\n",
        "            for l in letters:\n",
        "                if l != s[1][0]:\n",
        "                    replace_l.append(s[0] + l)\n",
        "        elif len(s[1]) > 1:\n",
        "            for l in letters:\n",
        "                if l != s[1][0]:\n",
        "                    replace_l.append(s[0] + l + s[1][1:])\n",
        "    replace_set = set(replace_l)\n",
        "    replace_l = sorted(list(replace_set))\n",
        "    if verbose: print(f\"Input word = {word} \\nsplit_l = {split_l} \\nreplace_l = {replace_l}\")\n",
        "    return replace_l\n",
        "\n",
        "replace_l = replace_letter(word='laptop', verbose=True)"
      ],
      "metadata": {
        "id": "yBoy9lPlimcs",
        "outputId": "83195d21-c5b1-4a75-c8cf-97f543ca004c",
        "colab": {
          "base_uri": "https://localhost:8080/"
        }
      },
      "id": "yBoy9lPlimcs",
      "execution_count": 42,
      "outputs": [
        {
          "output_type": "stream",
          "name": "stdout",
          "text": [
            "Input word = laptop \n",
            "split_l = [('', 'laptop'), ('l', 'aptop'), ('la', 'ptop'), ('lap', 'top'), ('lapt', 'op'), ('lapto', 'p')] \n",
            "replace_l = ['aaptop', 'baptop', 'captop', 'daptop', 'eaptop', 'faptop', 'gaptop', 'haptop', 'iaptop', 'japtop', 'kaptop', 'laatop', 'labtop', 'lactop', 'ladtop', 'laetop', 'laftop', 'lagtop', 'lahtop', 'laitop', 'lajtop', 'laktop', 'laltop', 'lamtop', 'lantop', 'laotop', 'lapaop', 'lapbop', 'lapcop', 'lapdop', 'lapeop', 'lapfop', 'lapgop', 'laphop', 'lapiop', 'lapjop', 'lapkop', 'laplop', 'lapmop', 'lapnop', 'lapoop', 'lappop', 'lapqop', 'laprop', 'lapsop', 'laptap', 'laptbp', 'laptcp', 'laptdp', 'laptep', 'laptfp', 'laptgp', 'lapthp', 'laptip', 'laptjp', 'laptkp', 'laptlp', 'laptmp', 'laptnp', 'laptoa', 'laptob', 'laptoc', 'laptod', 'laptoe', 'laptof', 'laptog', 'laptoh', 'laptoi', 'laptoj', 'laptok', 'laptol', 'laptom', 'lapton', 'laptoo', 'laptoq', 'laptor', 'laptos', 'laptot', 'laptou', 'laptov', 'laptow', 'laptox', 'laptoy', 'laptoz', 'laptpp', 'laptqp', 'laptrp', 'laptsp', 'lapttp', 'laptup', 'laptvp', 'laptwp', 'laptxp', 'laptyp', 'laptzp', 'lapuop', 'lapvop', 'lapwop', 'lapxop', 'lapyop', 'lapzop', 'laqtop', 'lartop', 'lastop', 'lattop', 'lautop', 'lavtop', 'lawtop', 'laxtop', 'laytop', 'laztop', 'lbptop', 'lcptop', 'ldptop', 'leptop', 'lfptop', 'lgptop', 'lhptop', 'liptop', 'ljptop', 'lkptop', 'llptop', 'lmptop', 'lnptop', 'loptop', 'lpptop', 'lqptop', 'lrptop', 'lsptop', 'ltptop', 'luptop', 'lvptop', 'lwptop', 'lxptop', 'lyptop', 'lzptop', 'maptop', 'naptop', 'oaptop', 'paptop', 'qaptop', 'raptop', 'saptop', 'taptop', 'uaptop', 'vaptop', 'waptop', 'xaptop', 'yaptop', 'zaptop']\n"
          ]
        }
      ]
    },
    {
      "cell_type": "code",
      "source": [
        "# Insert letter\n",
        "def insert_letter(word, verbose=False):\n",
        "    letters = 'abcdefghijklmnopqrstuvwxyz'\n",
        "    insert_l = []\n",
        "    split_l = [(word[:i], word[i:]) for i in range(len(word)+1)]\n",
        "    for s in split_l:\n",
        "        for l in letters:\n",
        "            insert_l.append(s[0] + l + s[1])\n",
        "    if verbose: print(f\"Input word {word} \\nsplit_l = {split_l} \\ninsert_l = {insert_l}\")\n",
        "    return insert_l\n",
        "\n",
        "insert_l = insert_letter('at', True)\n",
        "print(f\"Number of strings output by insert_letter('at') is {len(insert_l)}\")"
      ],
      "metadata": {
        "id": "e-CAlWzkuUcq",
        "outputId": "efe7c6d2-6296-4719-9b6f-d6a8077c8256",
        "colab": {
          "base_uri": "https://localhost:8080/"
        }
      },
      "id": "e-CAlWzkuUcq",
      "execution_count": 43,
      "outputs": [
        {
          "output_type": "stream",
          "name": "stdout",
          "text": [
            "Input word at \n",
            "split_l = [('', 'at'), ('a', 't'), ('at', '')] \n",
            "insert_l = ['aat', 'bat', 'cat', 'dat', 'eat', 'fat', 'gat', 'hat', 'iat', 'jat', 'kat', 'lat', 'mat', 'nat', 'oat', 'pat', 'qat', 'rat', 'sat', 'tat', 'uat', 'vat', 'wat', 'xat', 'yat', 'zat', 'aat', 'abt', 'act', 'adt', 'aet', 'aft', 'agt', 'aht', 'ait', 'ajt', 'akt', 'alt', 'amt', 'ant', 'aot', 'apt', 'aqt', 'art', 'ast', 'att', 'aut', 'avt', 'awt', 'axt', 'ayt', 'azt', 'ata', 'atb', 'atc', 'atd', 'ate', 'atf', 'atg', 'ath', 'ati', 'atj', 'atk', 'atl', 'atm', 'atn', 'ato', 'atp', 'atq', 'atr', 'ats', 'att', 'atu', 'atv', 'atw', 'atx', 'aty', 'atz']\n",
            "Number of strings output by insert_letter('at') is 78\n"
          ]
        }
      ]
    },
    {
      "cell_type": "markdown",
      "id": "5c6197fc",
      "metadata": {
        "id": "5c6197fc"
      },
      "source": [
        "**Combining Functions for Word Suggestions**\n",
        "\n",
        "Combine the functions to edit one or two characters in a word."
      ]
    },
    {
      "cell_type": "code",
      "execution_count": 44,
      "id": "e9229d4d",
      "metadata": {
        "id": "e9229d4d"
      },
      "outputs": [],
      "source": [
        "# Edit one letter\n",
        "\n",
        "def edit_one_letter(word, allow_switches=True):\n",
        "    edit_one_set = set()\n",
        "    insert_l = insert_letter(word)\n",
        "    delete_l = delete_letter(word)\n",
        "    replace_l = replace_letter(word)\n",
        "    switch_l = switch_letter(word)\n",
        "    if allow_switches:\n",
        "        ans = insert_l + delete_l + replace_l + switch_l\n",
        "    else:\n",
        "        ans = insert_l + delete_l + replace_l\n",
        "    edit_one_set = set(ans)\n",
        "    return edit_one_set"
      ]
    },
    {
      "cell_type": "code",
      "source": [
        "# Edit two letters\n",
        "tmp_word = \"er\"\n",
        "tmp_edit_one_set = edit_one_letter(tmp_word)\n",
        "tmp_edit_one_l = sorted(list(tmp_edit_one_set))\n",
        "\n",
        "print(f\"input word : {tmp_word} \\nedit_one_l \\n{tmp_edit_one_l}\\n\")\n",
        "print(f\"Number of outputs from edit_one_letter('er') is {len(edit_one_letter('er'))}\")"
      ],
      "metadata": {
        "id": "UCSWEhMyu3ys",
        "outputId": "02e8c1a0-187b-4056-deeb-9f3246723df7",
        "colab": {
          "base_uri": "https://localhost:8080/"
        }
      },
      "id": "UCSWEhMyu3ys",
      "execution_count": 45,
      "outputs": [
        {
          "output_type": "stream",
          "name": "stdout",
          "text": [
            "input word : er \n",
            "edit_one_l \n",
            "['aer', 'ar', 'ber', 'br', 'cer', 'cr', 'der', 'dr', 'e', 'ea', 'ear', 'eb', 'ebr', 'ec', 'ecr', 'ed', 'edr', 'ee', 'eer', 'ef', 'efr', 'eg', 'egr', 'eh', 'ehr', 'ei', 'eir', 'ej', 'ejr', 'ek', 'ekr', 'el', 'elr', 'em', 'emr', 'en', 'enr', 'eo', 'eor', 'ep', 'epr', 'eq', 'eqr', 'era', 'erb', 'erc', 'erd', 'ere', 'erf', 'erg', 'erh', 'eri', 'erj', 'erk', 'erl', 'erm', 'ern', 'ero', 'erp', 'erq', 'err', 'ers', 'ert', 'eru', 'erv', 'erw', 'erx', 'ery', 'erz', 'es', 'esr', 'et', 'etr', 'eu', 'eur', 'ev', 'evr', 'ew', 'ewr', 'ex', 'exr', 'ey', 'eyr', 'ez', 'ezr', 'fer', 'fr', 'ger', 'gr', 'her', 'hr', 'ier', 'ir', 'jer', 'jr', 'ker', 'kr', 'ler', 'lr', 'mer', 'mr', 'ner', 'nr', 'oer', 'or', 'per', 'pr', 'qer', 'qr', 'r', 're', 'rer', 'rr', 'ser', 'sr', 'ter', 'tr', 'uer', 'ur', 'ver', 'vr', 'wer', 'wr', 'xer', 'xr', 'yer', 'yr', 'zer', 'zr']\n",
            "\n",
            "Number of outputs from edit_one_letter('er') is 129\n"
          ]
        }
      ]
    },
    {
      "cell_type": "markdown",
      "id": "1f9a5ac0",
      "metadata": {
        "id": "1f9a5ac0"
      },
      "source": [
        "### Step 4.3: Probability Distribution\n",
        "\n",
        "Calculate the frequency of each word in the corpus and compute the probability distribution."
      ]
    },
    {
      "cell_type": "code",
      "execution_count": 48,
      "id": "5462dd60",
      "metadata": {
        "id": "5462dd60",
        "outputId": "ac9beebb-0af3-4f16-d849-5357d6383532",
        "colab": {
          "base_uri": "https://localhost:8080/"
        }
      },
      "outputs": [
        {
          "output_type": "stream",
          "name": "stdout",
          "text": [
            "There are 537 key values pairs\n",
            "The count for the word 'true' is 2\n"
          ]
        }
      ],
      "source": [
        "def get_count(word_l):\n",
        "    word_count_dict = Counter(word_l)\n",
        "    return word_count_dict\n",
        "\n",
        "word_count_dict = get_count(word_l)\n",
        "print(f\"There are {len(word_count_dict)} key values pairs\")\n",
        "print(f\"The count for the word 'true' is {word_count_dict.get('true',0)}\")"
      ]
    },
    {
      "cell_type": "code",
      "source": [
        "def get_probs(word_count_dict):\n",
        "    probs = {}\n",
        "    total = sum(word_count_dict.values())\n",
        "    for word in word_count_dict.keys():\n",
        "        probs[word] = word_count_dict[word] / total\n",
        "    return probs\n",
        "\n",
        "probs = get_probs(word_count_dict)\n",
        "print(f\"Length of probs is {len(probs)}\")\n",
        "print(f\"P('true') is {probs['true']:.4f}\")"
      ],
      "metadata": {
        "id": "S2xKryxPvCLu",
        "outputId": "ed069cc2-6907-4097-a06e-ea1577864748",
        "colab": {
          "base_uri": "https://localhost:8080/"
        }
      },
      "id": "S2xKryxPvCLu",
      "execution_count": 50,
      "outputs": [
        {
          "output_type": "stream",
          "name": "stdout",
          "text": [
            "Length of probs is 537\n",
            "P('true') is 0.0016\n"
          ]
        }
      ]
    },
    {
      "cell_type": "code",
      "source": [
        "# Display probability distribution\n",
        "prob_df = pd.DataFrame({'word': probs.keys(), 'probability': probs.values()}).sort_values(by='probability', ascending=False)\n",
        "prob_df.sample(5)\n",
        "\n",
        "prob_df.head().plot.bar(x='word', y='probability')"
      ],
      "metadata": {
        "id": "1R6ZGPmYvClz",
        "outputId": "6fb38efb-4b3e-497c-dee6-b446672011bd",
        "colab": {
          "base_uri": "https://localhost:8080/",
          "height": 479
        }
      },
      "id": "1R6ZGPmYvClz",
      "execution_count": 51,
      "outputs": [
        {
          "output_type": "execute_result",
          "data": {
            "text/plain": [
              "<Axes: xlabel='word'>"
            ]
          },
          "metadata": {},
          "execution_count": 51
        },
        {
          "output_type": "display_data",
          "data": {
            "text/plain": [
              "<Figure size 640x480 with 1 Axes>"
            ],
            "image/png": "[encoded data removed]"
          },
          "metadata": {}
        }
      ]
    },
    {
      "cell_type": "markdown",
      "id": "8aebeba6",
      "metadata": {
        "id": "8aebeba6"
      },
      "source": [
        "### Step 4.4: Replace Misspells with Correction\n",
        "\n",
        "Write a function to replace misspelled words with the most probable corrections."
      ]
    },
    {
      "cell_type": "code",
      "execution_count": 53,
      "id": "b8a61c93",
      "metadata": {
        "id": "b8a61c93",
        "outputId": "a8a6ea8e-2dfe-46a9-a3a7-1bb9d8ce1e29",
        "colab": {
          "base_uri": "https://localhost:8080/",
          "height": 36
        }
      },
      "outputs": [
        {
          "output_type": "execute_result",
          "data": {
            "text/plain": [
              "'and'"
            ],
            "application/vnd.google.colaboratory.intrinsic+json": {
              "type": "string"
            }
          },
          "metadata": {},
          "execution_count": 53
        }
      ],
      "source": [
        "# Your code here to replace misspells\n",
        "def get_corrections(word, probs, vocab, n=2, verbose=False):\n",
        "    suggestions = []\n",
        "    n_best = []\n",
        "\n",
        "    if word in probs.keys():\n",
        "        suggestions.append(word)\n",
        "    #Check to see if 'edit_one_letter' function exists\n",
        "    if 'edit_one_letter' in globals():\n",
        "        for w in edit_one_letter(word):\n",
        "            if len(suggestions) == n:\n",
        "                break\n",
        "            if w in probs.keys():\n",
        "                suggestions.append(w)\n",
        "    #Check to see if 'edit_two_letters' function exists\n",
        "    if 'edit_two_letters' in globals():\n",
        "        for w in edit_two_letters(word):\n",
        "            if len(suggestions) == n:\n",
        "                break\n",
        "            if w in probs.keys():\n",
        "                suggestions.append(w)\n",
        "\n",
        "    best_words = sorted({s: probs[s] for s in suggestions}.items(), key=lambda x: x[1], reverse=True)\n",
        "    n_best = best_words\n",
        "\n",
        "    if verbose: print(\"entered word = \", word, \"\\nsuggestions = \", suggestions)\n",
        "    return n_best\n",
        "\n",
        "def get_correct_word(word, vocab, probs, n):\n",
        "    corrections = get_corrections(word, probs, vocab, n, verbose=False)\n",
        "    if len(corrections) == 0:\n",
        "        return word\n",
        "\n",
        "    final_word = corrections[0][0]\n",
        "    final_prob = corrections[0][1]\n",
        "    for i, word_prob in enumerate(corrections):\n",
        "        if word_prob[1] > final_prob:\n",
        "            final_word = word_prob[0]\n",
        "            final_prob = word_prob[1]\n",
        "    return final_word\n",
        "\n",
        "get_correct_word('and', vocab, probs, 100)"
      ]
    },
    {
      "cell_type": "markdown",
      "id": "baff1c00",
      "metadata": {
        "id": "baff1c00"
      },
      "source": [
        "### Step 5: Final Auto-Correction Function\n",
        "\n",
        "Combine all parts into a final function that corrects sentences."
      ]
    },
    {
      "cell_type": "code",
      "execution_count": 54,
      "id": "974eb839",
      "metadata": {
        "id": "974eb839"
      },
      "outputs": [],
      "source": [
        "\n",
        "def autocorrect(sentence, vocab, probs):\n",
        "    print(\"Input sentence : \", sentence)\n",
        "    wrong_words = find_wrong_word(sentence, vocab)\n",
        "    print(\"Wrong words : \", wrong_words)\n",
        "    correct_words = []\n",
        "    for word in sentence.strip().lower().split(\" \"):\n",
        "        if word in wrong_words:\n",
        "            correct_word = get_correct_word(word, vocab, probs, 15)\n",
        "            word = correct_word\n",
        "        correct_words.append(word)\n",
        "    print(\"Output Sentence : \", \" \".join(correct_words).capitalize())"
      ]
    },
    {
      "cell_type": "markdown",
      "metadata": {
        "id": "O01DcmYtvOlh"
      },
      "source": [
        "### Step 6: Demo\n",
        "\n",
        "Apply your work to a sentence"
      ],
      "id": "O01DcmYtvOlh"
    },
    {
      "cell_type": "code",
      "source": [
        "autocorrect(\"The Motorola Staertac should be Numbber One\", vocab, probs)"
      ],
      "metadata": {
        "id": "juIS0GFovX02",
        "outputId": "0e0ea8f0-2260-4319-dbd0-ccbe234dd9d7",
        "colab": {
          "base_uri": "https://localhost:8080/"
        }
      },
      "id": "juIS0GFovX02",
      "execution_count": 56,
      "outputs": [
        {
          "output_type": "stream",
          "name": "stdout",
          "text": [
            "Input sentence :  The Motorola Staertac should be Numbber One\n",
            "Wrong words :  ['staertac', 'numbber']\n",
            "Output Sentence :  The motorola startac should be number one\n"
          ]
        }
      ]
    },
    {
      "cell_type": "code",
      "source": [
        "autocorrect(\"hThey're invariaggbly inaccurate, uncomfortable, and cumbersome to use.\", vocab, probs)"
      ],
      "metadata": {
        "id": "ZUvDinBYjy7G",
        "outputId": "3e138fe3-750c-4ead-fdcb-c3894365387a",
        "colab": {
          "base_uri": "https://localhost:8080/"
        }
      },
      "id": "ZUvDinBYjy7G",
      "execution_count": 57,
      "outputs": [
        {
          "output_type": "stream",
          "name": "stdout",
          "text": [
            "Input sentence :  hThey're invariaggbly inaccurate, uncomfortable, and cumbersome to use.\n",
            "Wrong words :  [\"hthey're\", 'invariaggbly', 'inaccurate,', 'uncomfortable,', 'use.']\n",
            "Output Sentence :  Hthey're invariaggbly inaccurate uncomfortable and cumbersome to used\n"
          ]
        }
      ]
    }
  ],
  "metadata": {
    "colab": {
      "provenance": []
    },
    "language_info": {
      "name": "python"
    },
    "kernelspec": {
      "name": "python3",
      "display_name": "Python 3"
    }
  },
  "nbformat": 4,
  "nbformat_minor": 5
}